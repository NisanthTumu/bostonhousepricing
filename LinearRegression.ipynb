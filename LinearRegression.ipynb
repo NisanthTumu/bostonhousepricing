{
 "cells": [
  {
   "cell_type": "code",
   "execution_count": null,
   "id": "86025ee8-2faf-441a-8991-1fd2e3286a41",
   "metadata": {},
   "outputs": [
    {
     "ename": "",
     "evalue": "",
     "output_type": "error",
     "traceback": [
      "\u001b[1;31mRunning cells with 'venv (Python 3.8.0)' requires the ipykernel package.\n",
      "\u001b[1;31mRun the following command to install 'ipykernel' into the Python environment. \n",
      "\u001b[1;31mCommand: 'conda install -p c:\\Program Files\\Portfolio\\E2E\\bostonhousepricing\\venv ipykernel --update-deps --force-reinstall'"
     ]
    }
   ],
   "source": [
    "import pandas as pd\n",
    "import numpy as np\n",
    "import seaborn as sns\n",
    "import matplotlib.pyplot as plt\n",
    "%matplotlib inline"
   ]
  },
  {
   "cell_type": "markdown",
   "id": "d38868ee-819f-4911-8047-a3f03d1d904c",
   "metadata": {},
   "source": [
    "# Load Boston house dataset"
   ]
  },
  {
   "cell_type": "code",
   "execution_count": null,
   "id": "f23556de-e04f-47ae-a150-3bafa8d80e47",
   "metadata": {},
   "outputs": [],
   "source": [
    "data = pd.read_csv(r\"C:\\Users\\nisan\\Downloads\\BostonHousing.csv\")"
   ]
  },
  {
   "cell_type": "code",
   "execution_count": null,
   "id": "7fef3618-2e55-4065-a79a-62bc50ad334d",
   "metadata": {},
   "outputs": [],
   "source": [
    "data"
   ]
  },
  {
   "cell_type": "code",
   "execution_count": null,
   "id": "28205e41-0039-448b-99f6-fbb897fef222",
   "metadata": {},
   "outputs": [],
   "source": [
    "data.info()"
   ]
  },
  {
   "cell_type": "code",
   "execution_count": null,
   "id": "a2a0f0b5-f262-4fcc-9708-17aa30e02397",
   "metadata": {},
   "outputs": [],
   "source": [
    "data.head()"
   ]
  },
  {
   "cell_type": "code",
   "execution_count": null,
   "id": "29c7a51d-1e48-4b35-9b48-3aed3fc37393",
   "metadata": {},
   "outputs": [],
   "source": [
    "data.rename(columns={\"medv\": \"price\"}, inplace=True)\n"
   ]
  },
  {
   "cell_type": "code",
   "execution_count": null,
   "id": "33bf3c56-175e-4931-bae1-f1438bbbefd4",
   "metadata": {},
   "outputs": [],
   "source": [
    "data.head()"
   ]
  },
  {
   "cell_type": "code",
   "execution_count": null,
   "id": "ae76c7e9-4ae4-4c16-b0e9-28c69a99ba97",
   "metadata": {},
   "outputs": [],
   "source": [
    "data.info()"
   ]
  },
  {
   "cell_type": "code",
   "execution_count": null,
   "id": "a2ba5952-11b2-4bf9-9be8-6e246345e895",
   "metadata": {},
   "outputs": [],
   "source": [
    "descr=data.describe()"
   ]
  },
  {
   "cell_type": "code",
   "execution_count": null,
   "id": "06233e21-bb76-4f77-abbf-e773b8c60209",
   "metadata": {},
   "outputs": [],
   "source": [
    "descr"
   ]
  },
  {
   "cell_type": "code",
   "execution_count": null,
   "id": "1f16ed0b-4ab7-470b-b175-c78375643bcc",
   "metadata": {},
   "outputs": [],
   "source": [
    "data.isnull().sum()"
   ]
  },
  {
   "cell_type": "code",
   "execution_count": null,
   "id": "f7331830-3268-4661-a439-8700fbab72de",
   "metadata": {},
   "outputs": [],
   "source": [
    "data[\"rm\"]"
   ]
  },
  {
   "cell_type": "code",
   "execution_count": null,
   "id": "cd3d4254-a353-4fda-91ef-a7b4d8cd26f4",
   "metadata": {},
   "outputs": [],
   "source": [
    "data[\"rm\"].fillna(data[\"rm\"].median(), inplace=True)  \n"
   ]
  },
  {
   "cell_type": "code",
   "execution_count": null,
   "id": "a16532e0-328e-4de9-b5cc-41d706ac050c",
   "metadata": {},
   "outputs": [],
   "source": [
    "data.isnull()"
   ]
  },
  {
   "cell_type": "code",
   "execution_count": null,
   "id": "556c318e-f52f-40ef-944d-b148bdb5c784",
   "metadata": {},
   "outputs": [],
   "source": [
    "data.isnull().sum()"
   ]
  },
  {
   "cell_type": "markdown",
   "id": "880382f2-952f-45c9-a281-76c29d532c71",
   "metadata": {},
   "source": [
    "## EDA\n",
    "## Correlation\n",
    "\n"
   ]
  },
  {
   "cell_type": "code",
   "execution_count": null,
   "id": "b57af655-8f82-449f-9da3-dc3afe54cd10",
   "metadata": {},
   "outputs": [],
   "source": [
    "corr=data.corr()"
   ]
  },
  {
   "cell_type": "code",
   "execution_count": null,
   "id": "16c6b913-e3bc-42d9-82d5-43e1e7762b91",
   "metadata": {},
   "outputs": [],
   "source": [
    "corr"
   ]
  },
  {
   "cell_type": "code",
   "execution_count": null,
   "id": "d988f361-da35-43c5-8456-6a11cec9b165",
   "metadata": {},
   "outputs": [],
   "source": [
    "sns.heatmap(data.corr())"
   ]
  },
  {
   "cell_type": "code",
   "execution_count": null,
   "id": "3b9f1927-d060-400c-be72-288e737432df",
   "metadata": {},
   "outputs": [],
   "source": [
    "plt.scatter(data['crim'],data['price'])\n",
    "plt.xlabel(\"crime rate\")\n",
    "plt.ylabel(\"price\")"
   ]
  },
  {
   "cell_type": "code",
   "execution_count": null,
   "id": "7fc69ec1-ff96-4043-a68f-8e20b3460353",
   "metadata": {},
   "outputs": [],
   "source": [
    "plt.scatter(data['rm'],data['price'])\n",
    "plt.xlabel(\"RM\")\n",
    "plt.ylabel(\"price\")"
   ]
  },
  {
   "cell_type": "code",
   "execution_count": null,
   "id": "a5d0fb01-54de-4ad5-be86-9793a54dba2c",
   "metadata": {},
   "outputs": [],
   "source": [
    "sns.regplot(x = \"rm\", y =\"price\", data =data)"
   ]
  },
  {
   "cell_type": "code",
   "execution_count": null,
   "id": "ee77ce2c-4c44-428c-995c-2fad85b91e1d",
   "metadata": {},
   "outputs": [],
   "source": [
    "sns.regplot(x = \"lstat\", y =\"price\", data =data)"
   ]
  },
  {
   "cell_type": "code",
   "execution_count": null,
   "id": "a8ab59da-0999-4acb-b069-293d78d2a2f0",
   "metadata": {},
   "outputs": [],
   "source": [
    "sns.regplot(x = \"chas\", y =\"price\", data =data)"
   ]
  },
  {
   "cell_type": "code",
   "execution_count": null,
   "id": "97613f6d-5d76-418c-93f2-f148d266497c",
   "metadata": {},
   "outputs": [],
   "source": [
    "sns.regplot(x = 'ptratio', y = 'price', data = data)"
   ]
  },
  {
   "cell_type": "code",
   "execution_count": null,
   "id": "b72a1099-8f78-475c-9922-f4b38e09bc64",
   "metadata": {},
   "outputs": [],
   "source": [
    "X = data.iloc[:,:-1]"
   ]
  },
  {
   "cell_type": "code",
   "execution_count": null,
   "id": "ff387662-1580-4d59-ae54-5763f3d5c880",
   "metadata": {},
   "outputs": [],
   "source": [
    "X"
   ]
  },
  {
   "cell_type": "code",
   "execution_count": null,
   "id": "907402c1-c860-438f-81bb-b7503d1f7436",
   "metadata": {},
   "outputs": [],
   "source": [
    "y = data.iloc[:,-1]"
   ]
  },
  {
   "cell_type": "code",
   "execution_count": null,
   "id": "fa4336b0-8bb0-4ad7-ade6-149e64f75b48",
   "metadata": {},
   "outputs": [],
   "source": [
    "y"
   ]
  },
  {
   "cell_type": "code",
   "execution_count": null,
   "id": "01ea4245-cd62-4f85-a9e0-0c7681f119b3",
   "metadata": {},
   "outputs": [],
   "source": [
    "from sklearn.model_selection import train_test_split"
   ]
  },
  {
   "cell_type": "code",
   "execution_count": null,
   "id": "39e625e3-7914-4588-ab29-d0a56f04ab18",
   "metadata": {},
   "outputs": [],
   "source": [
    "X_train,X_test,y_train,y_test = train_test_split(X,y, test_size=0.3, random_state =42)"
   ]
  },
  {
   "cell_type": "code",
   "execution_count": null,
   "id": "c3f2f2df-c24e-4a0a-8b86-947dfd16e321",
   "metadata": {},
   "outputs": [],
   "source": [
    "X_train"
   ]
  },
  {
   "cell_type": "code",
   "execution_count": null,
   "id": "b69c083c-e048-406b-8ad2-2b2f80df9f84",
   "metadata": {
    "scrolled": true
   },
   "outputs": [],
   "source": [
    "y_train"
   ]
  },
  {
   "cell_type": "code",
   "execution_count": null,
   "id": "b20c5cc5-92d6-49c3-b2de-77aa2cd50f7d",
   "metadata": {},
   "outputs": [],
   "source": [
    "## statndardize teh dataset\n",
    "\n",
    "from sklearn.preprocessing import StandardScaler\n",
    "scaler = StandardScaler()"
   ]
  },
  {
   "cell_type": "code",
   "execution_count": null,
   "id": "ca4f90b9-be02-40a4-9753-4e6cb8219f28",
   "metadata": {},
   "outputs": [],
   "source": [
    "X_train=scaler.fit_transform(X_train)"
   ]
  },
  {
   "cell_type": "code",
   "execution_count": null,
   "id": "d157e117-07ec-4ed6-bdd4-12667080acfd",
   "metadata": {},
   "outputs": [],
   "source": [
    "X_test = scaler.transform(X_test)"
   ]
  },
  {
   "cell_type": "markdown",
   "id": "8b83240e-7e91-427d-9fc5-7eb445819fcf",
   "metadata": {},
   "source": [
    "## Model training"
   ]
  },
  {
   "cell_type": "code",
   "execution_count": null,
   "id": "d1a5fe82-02fe-45e4-b011-b28078bce8e3",
   "metadata": {},
   "outputs": [],
   "source": [
    "from sklearn.linear_model import LinearRegression"
   ]
  },
  {
   "cell_type": "code",
   "execution_count": null,
   "id": "f46ca639-7958-4815-96c9-8567b1e8e32f",
   "metadata": {},
   "outputs": [],
   "source": [
    "reg = LinearRegression()"
   ]
  },
  {
   "cell_type": "code",
   "execution_count": null,
   "id": "e8be5e53-cf9a-4890-8c4a-c2dea37709c7",
   "metadata": {},
   "outputs": [],
   "source": [
    "reg.fit(X_train,y_train)"
   ]
  },
  {
   "cell_type": "code",
   "execution_count": null,
   "id": "6f58c501-7558-4633-a808-8bc0185cb767",
   "metadata": {},
   "outputs": [],
   "source": [
    "print(reg.coef_)"
   ]
  },
  {
   "cell_type": "code",
   "execution_count": null,
   "id": "5eced02a-939a-4966-ba05-efed1a7a75e2",
   "metadata": {},
   "outputs": [],
   "source": [
    "print(reg.intercept_)"
   ]
  },
  {
   "cell_type": "code",
   "execution_count": null,
   "id": "f86f1da3-34d6-42f7-b554-bc90f3fed09e",
   "metadata": {},
   "outputs": [],
   "source": [
    "reg.get_params()"
   ]
  },
  {
   "cell_type": "code",
   "execution_count": null,
   "id": "07fee7b3-27fb-459b-99fd-985c7dd9caf5",
   "metadata": {},
   "outputs": [],
   "source": [
    "reg_pred=reg.predict(X_test)"
   ]
  },
  {
   "cell_type": "code",
   "execution_count": null,
   "id": "482823b5-ea40-4de1-b80c-25f7d68e9c42",
   "metadata": {},
   "outputs": [],
   "source": [
    "reg_pred"
   ]
  },
  {
   "cell_type": "code",
   "execution_count": null,
   "id": "c21004d1-741f-49c4-9f7d-09c2ac7da643",
   "metadata": {},
   "outputs": [],
   "source": [
    "plt.scatter(reg_pred,y_test)"
   ]
  },
  {
   "cell_type": "code",
   "execution_count": null,
   "id": "9a448be0-fa55-477a-a9f1-cc6d36e241c4",
   "metadata": {},
   "outputs": [],
   "source": [
    "plt.scatter(y_test,reg_pred)"
   ]
  },
  {
   "cell_type": "code",
   "execution_count": null,
   "id": "b787ae1d-3edf-472b-a4d9-3eb312bf71cc",
   "metadata": {},
   "outputs": [],
   "source": [
    "residuals=y_test-reg_pred"
   ]
  },
  {
   "cell_type": "code",
   "execution_count": null,
   "id": "a348c5e2-de5d-45bd-8ec3-d2ec449b6498",
   "metadata": {},
   "outputs": [],
   "source": [
    "residuals"
   ]
  },
  {
   "cell_type": "code",
   "execution_count": null,
   "id": "e71ddeef-651f-4b1f-a657-1c626876559f",
   "metadata": {},
   "outputs": [],
   "source": [
    "sns.displot(residuals, kind='kde')"
   ]
  },
  {
   "cell_type": "code",
   "execution_count": null,
   "id": "b82b5c29-1134-47dc-8983-2cd061b971f5",
   "metadata": {},
   "outputs": [],
   "source": [
    "plt.scatter(reg_pred,residuals)"
   ]
  },
  {
   "cell_type": "code",
   "execution_count": null,
   "id": "6d4ae780-8550-450d-af68-b784bb44df16",
   "metadata": {},
   "outputs": [],
   "source": [
    "from sklearn.metrics import mean_squared_error\n",
    "from sklearn.metrics import mean_absolute_error"
   ]
  },
  {
   "cell_type": "code",
   "execution_count": null,
   "id": "068f9316-b8f0-4560-9e7e-b5e9fbd8a524",
   "metadata": {},
   "outputs": [],
   "source": [
    "print(mean_squared_error(y_test,reg_pred)"
   ]
  },
  {
   "cell_type": "code",
   "execution_count": null,
   "id": "a6c94403-3e3c-4e32-8a43-e7d5fa28abb4",
   "metadata": {},
   "outputs": [],
   "source": [
    "print(mean_absolute_error(y_test,reg_pred))"
   ]
  },
  {
   "cell_type": "code",
   "execution_count": null,
   "id": "ef44c7e6-b3d0-41c0-b4a2-d59b3484d1e6",
   "metadata": {},
   "outputs": [],
   "source": [
    "print(np.sqrt(mean_squared_error(y_test,reg_pred)))"
   ]
  },
  {
   "cell_type": "markdown",
   "id": "daf9c673-5b24-46d8-9cdd-cc1b1c4ea932",
   "metadata": {},
   "source": [
    "# R Square and Adjusted R Square "
   ]
  },
  {
   "cell_type": "code",
   "execution_count": null,
   "id": "d9df5006-7b73-49d1-b629-fb7e15c36183",
   "metadata": {},
   "outputs": [],
   "source": [
    "from sklearn.metrics import r2_score"
   ]
  },
  {
   "cell_type": "code",
   "execution_count": null,
   "id": "8e89feee-b8ba-4da2-bfd6-7a18f12d6e8d",
   "metadata": {},
   "outputs": [],
   "source": [
    "score = r2_score(y_test,reg_pred)"
   ]
  },
  {
   "cell_type": "code",
   "execution_count": null,
   "id": "8faf3740-7806-4c20-a545-a6cb31b19870",
   "metadata": {},
   "outputs": [],
   "source": [
    "score"
   ]
  },
  {
   "cell_type": "code",
   "execution_count": null,
   "id": "226120f3-d772-43d0-9eae-3c62fef7a513",
   "metadata": {},
   "outputs": [],
   "source": [
    "n = len(y_test)  # Number of observations\n",
    "p = X_test.shape[1] - 1\n",
    "adj_r2 = 1 - ((1 - score) * (n - 1)) / (n - p - 1)"
   ]
  },
  {
   "cell_type": "code",
   "execution_count": null,
   "id": "4b3e9236-5666-4510-82b2-242eecc4ba41",
   "metadata": {},
   "outputs": [],
   "source": [
    "adj_r2"
   ]
  },
  {
   "cell_type": "markdown",
   "id": "13f050e7-3bfe-4ed3-b60b-c8137e903a27",
   "metadata": {},
   "source": [
    "# Pickling"
   ]
  },
  {
   "cell_type": "code",
   "execution_count": null,
   "id": "99bfe1ea-f2c4-464b-9525-778e4c510b00",
   "metadata": {},
   "outputs": [],
   "source": [
    "import pickle"
   ]
  },
  {
   "cell_type": "code",
   "execution_count": null,
   "id": "742d9e84-b3c5-4088-8a38-3d51830549d0",
   "metadata": {},
   "outputs": [],
   "source": [
    "pickle.dump(reg, open('regmodel.pkl','wb'))"
   ]
  },
  {
   "cell_type": "code",
   "execution_count": null,
   "id": "620405cf-52f5-4a65-b027-475ef36da631",
   "metadata": {},
   "outputs": [],
   "source": [
    "pickled_model=pickle.load(open('regmodel.pkl','rb'))"
   ]
  },
  {
   "cell_type": "code",
   "execution_count": null,
   "id": "c2dfccb5-3f33-4dc2-8277-9b8c499a4e7d",
   "metadata": {},
   "outputs": [],
   "source": []
  }
 ],
 "metadata": {
  "kernelspec": {
   "display_name": "Python 3",
   "language": "python",
   "name": "python3"
  },
  "language_info": {
   "codemirror_mode": {
    "name": "ipython",
    "version": 3
   },
   "file_extension": ".py",
   "mimetype": "text/x-python",
   "name": "python",
   "nbconvert_exporter": "python",
   "pygments_lexer": "ipython3",
   "version": "3.8.0"
  }
 },
 "nbformat": 4,
 "nbformat_minor": 5
}
